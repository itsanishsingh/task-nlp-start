{
 "cells": [
  {
   "cell_type": "markdown",
   "id": "d49447eb-3744-49b0-b0dc-696d05c55a1a",
   "metadata": {},
   "source": [
    "# Natural Language Processing\n",
    "NLP is a sub-field of AI and is created from fields like linguistics, computer science and AI. Here the task is for the machines to understand natural language and help them in solving a problem or better assist them through it in speech format. For example, helping people in ATM booths to better guide them through the interface. There are some tasks of NLP which are as follows:-\n",
    "\n",
    "* Text Classification\n",
    "* Sentiment Analysis\n",
    "* Information Retrieval\n",
    "* Parts of Speech Tagging\n",
    "* Language Detection and Machine Translation\n",
    "* Conversational Agents\n",
    "* Knowledge Graph and QA System\n",
    "* Text Summarization\n",
    "* Topic Modelling\n",
    "* Text Generation\n",
    "* Text Parsing\n",
    "* Speech to Text\n",
    "\n",
    "There are some approaches to NLP which are as follows:-\n",
    "\n",
    "* Heuristic Method\n",
    "* Machine Learning Method\n",
    "* Deep Learning Method\n",
    "\n",
    "Challenges in NLP:-\n",
    "\n",
    "* Ambiguity\n",
    "* Contextual Words\n",
    "* Colloquialism and Slangs\n",
    "* Synonyms\n",
    "* Irony, Sarcasm and Tonal Difference\n",
    "* Spelling Errors\n",
    "* Creativity\n",
    "* Diversity"
   ]
  },
  {
   "cell_type": "markdown",
   "id": "7f2dbd7a-7b57-4a2d-949f-e5b0c7b4bde7",
   "metadata": {},
   "source": [
    "# NLP Pipeline\n",
    "It is set of steps followed to build an end to end NLP software.These steps are:-\n",
    "\n",
    "* Data Acquisition\n",
    "* Text Preparation\n",
    "  * Text Cleanup\n",
    "  * Basic Preprocessing\n",
    "  * Advance Preprocessing\n",
    "* Feature Engineering\n",
    "* Modelling\n",
    "  * Building\n",
    "  * Evaluation\n",
    "* Deployment\n",
    "  * Deployment\n",
    "  * Monitoring\n",
    "  * Model Update\n",
    "\n",
    "Notes:-\n",
    "\n",
    "* This is not universal\n",
    "* DL pipelines are slightly different\n",
    "* Pipeline is non-linear"
   ]
  },
  {
   "cell_type": "markdown",
   "id": "eec2f8ee-ea99-4ed2-95a4-66396aac36b2",
   "metadata": {},
   "source": [
    "### Text Preprocessing"
   ]
  },
  {
   "cell_type": "code",
   "execution_count": 1,
   "id": "bcccc72d-cfc0-41b6-929d-54285a292872",
   "metadata": {},
   "outputs": [],
   "source": [
    "# Importing Libraries\n",
    "from textblob import TextBlob # Took too long\n",
    "import nltk\n",
    "from nltk.corpus import stopwords\n",
    "from nltk.tokenize import word_tokenize, sent_tokenize\n",
    "from nltk.stem.porter import PorterStemmer\n",
    "from nltk.stem import WordNetLemmatizer\n",
    "from autocorrect import Speller\n",
    "import pandas as pd\n",
    "import numpy as np\n",
    "import re\n",
    "import string"
   ]
  },
  {
   "cell_type": "code",
   "execution_count": 2,
   "id": "6a9bfb92-f352-4aba-89e9-69b2a3afa64d",
   "metadata": {},
   "outputs": [
    {
     "name": "stderr",
     "output_type": "stream",
     "text": [
      "[nltk_data] Downloading package stopwords to /home/anish/nltk_data...\n",
      "[nltk_data]   Package stopwords is already up-to-date!\n",
      "[nltk_data] Downloading package punkt_tab to /home/anish/nltk_data...\n",
      "[nltk_data]   Package punkt_tab is already up-to-date!\n",
      "[nltk_data] Downloading package wordnet to /home/anish/nltk_data...\n",
      "[nltk_data]   Package wordnet is already up-to-date!\n"
     ]
    },
    {
     "data": {
      "text/plain": [
       "True"
      ]
     },
     "execution_count": 2,
     "metadata": {},
     "output_type": "execute_result"
    }
   ],
   "source": [
    "nltk.download(\"stopwords\")\n",
    "nltk.download(\"punkt_tab\")\n",
    "nltk.download('wordnet')"
   ]
  },
  {
   "cell_type": "markdown",
   "id": "a4c460e5-d796-4b16-b0ac-10d9ef162086",
   "metadata": {},
   "source": [
    "The above have to be downloaded."
   ]
  },
  {
   "cell_type": "code",
   "execution_count": 3,
   "id": "a61334f9-8eae-46b6-b78d-0a764378a773",
   "metadata": {},
   "outputs": [],
   "source": [
    "df = pd.read_csv(\"imdb_dataset.csv\")"
   ]
  },
  {
   "cell_type": "code",
   "execution_count": 4,
   "id": "6014c487-d0b0-4d73-bc2e-17ceb06221dc",
   "metadata": {},
   "outputs": [
    {
     "data": {
      "text/html": [
       "<div>\n",
       "<style scoped>\n",
       "    .dataframe tbody tr th:only-of-type {\n",
       "        vertical-align: middle;\n",
       "    }\n",
       "\n",
       "    .dataframe tbody tr th {\n",
       "        vertical-align: top;\n",
       "    }\n",
       "\n",
       "    .dataframe thead th {\n",
       "        text-align: right;\n",
       "    }\n",
       "</style>\n",
       "<table border=\"1\" class=\"dataframe\">\n",
       "  <thead>\n",
       "    <tr style=\"text-align: right;\">\n",
       "      <th></th>\n",
       "      <th>review</th>\n",
       "      <th>sentiment</th>\n",
       "    </tr>\n",
       "  </thead>\n",
       "  <tbody>\n",
       "    <tr>\n",
       "      <th>0</th>\n",
       "      <td>One of the other reviewers has mentioned that ...</td>\n",
       "      <td>positive</td>\n",
       "    </tr>\n",
       "    <tr>\n",
       "      <th>1</th>\n",
       "      <td>A wonderful little production. &lt;br /&gt;&lt;br /&gt;The...</td>\n",
       "      <td>positive</td>\n",
       "    </tr>\n",
       "    <tr>\n",
       "      <th>2</th>\n",
       "      <td>I thought this was a wonderful way to spend ti...</td>\n",
       "      <td>positive</td>\n",
       "    </tr>\n",
       "    <tr>\n",
       "      <th>3</th>\n",
       "      <td>Basically there's a family where a little boy ...</td>\n",
       "      <td>negative</td>\n",
       "    </tr>\n",
       "    <tr>\n",
       "      <th>4</th>\n",
       "      <td>Petter Mattei's \"Love in the Time of Money\" is...</td>\n",
       "      <td>positive</td>\n",
       "    </tr>\n",
       "  </tbody>\n",
       "</table>\n",
       "</div>"
      ],
      "text/plain": [
       "                                              review sentiment\n",
       "0  One of the other reviewers has mentioned that ...  positive\n",
       "1  A wonderful little production. <br /><br />The...  positive\n",
       "2  I thought this was a wonderful way to spend ti...  positive\n",
       "3  Basically there's a family where a little boy ...  negative\n",
       "4  Petter Mattei's \"Love in the Time of Money\" is...  positive"
      ]
     },
     "execution_count": 4,
     "metadata": {},
     "output_type": "execute_result"
    }
   ],
   "source": [
    "df.head()"
   ]
  },
  {
   "cell_type": "markdown",
   "id": "0e6fe41f-6e1b-4455-a7ac-19d060c7fc5a",
   "metadata": {},
   "source": [
    "First step would be to change the case to lower as python is a case-sensitive language and mismatch cases will result in different tokens even though they are same."
   ]
  },
  {
   "cell_type": "code",
   "execution_count": 5,
   "id": "c30e58ff-3eb0-4ae0-a768-ab3e40a92ee5",
   "metadata": {},
   "outputs": [],
   "source": [
    "df[\"review\"] = df[\"review\"].str.lower()"
   ]
  },
  {
   "cell_type": "code",
   "execution_count": 6,
   "id": "0a83f0c9-6e3b-4dfa-9baf-a9c0ec22448c",
   "metadata": {},
   "outputs": [
    {
     "data": {
      "text/html": [
       "<div>\n",
       "<style scoped>\n",
       "    .dataframe tbody tr th:only-of-type {\n",
       "        vertical-align: middle;\n",
       "    }\n",
       "\n",
       "    .dataframe tbody tr th {\n",
       "        vertical-align: top;\n",
       "    }\n",
       "\n",
       "    .dataframe thead th {\n",
       "        text-align: right;\n",
       "    }\n",
       "</style>\n",
       "<table border=\"1\" class=\"dataframe\">\n",
       "  <thead>\n",
       "    <tr style=\"text-align: right;\">\n",
       "      <th></th>\n",
       "      <th>review</th>\n",
       "      <th>sentiment</th>\n",
       "    </tr>\n",
       "  </thead>\n",
       "  <tbody>\n",
       "    <tr>\n",
       "      <th>0</th>\n",
       "      <td>one of the other reviewers has mentioned that ...</td>\n",
       "      <td>positive</td>\n",
       "    </tr>\n",
       "    <tr>\n",
       "      <th>1</th>\n",
       "      <td>a wonderful little production. &lt;br /&gt;&lt;br /&gt;the...</td>\n",
       "      <td>positive</td>\n",
       "    </tr>\n",
       "    <tr>\n",
       "      <th>2</th>\n",
       "      <td>i thought this was a wonderful way to spend ti...</td>\n",
       "      <td>positive</td>\n",
       "    </tr>\n",
       "    <tr>\n",
       "      <th>3</th>\n",
       "      <td>basically there's a family where a little boy ...</td>\n",
       "      <td>negative</td>\n",
       "    </tr>\n",
       "    <tr>\n",
       "      <th>4</th>\n",
       "      <td>petter mattei's \"love in the time of money\" is...</td>\n",
       "      <td>positive</td>\n",
       "    </tr>\n",
       "  </tbody>\n",
       "</table>\n",
       "</div>"
      ],
      "text/plain": [
       "                                              review sentiment\n",
       "0  one of the other reviewers has mentioned that ...  positive\n",
       "1  a wonderful little production. <br /><br />the...  positive\n",
       "2  i thought this was a wonderful way to spend ti...  positive\n",
       "3  basically there's a family where a little boy ...  negative\n",
       "4  petter mattei's \"love in the time of money\" is...  positive"
      ]
     },
     "execution_count": 6,
     "metadata": {},
     "output_type": "execute_result"
    }
   ],
   "source": [
    "df.head()"
   ]
  },
  {
   "cell_type": "markdown",
   "id": "abbb8cee-4cc6-4e04-9a3f-f3d1c027167a",
   "metadata": {},
   "source": [
    "Now we use regular expression to remove html tags as they are of no use to us."
   ]
  },
  {
   "cell_type": "code",
   "execution_count": 7,
   "id": "c2e39ff0-682e-4f3f-9cbb-9d81a9ab9166",
   "metadata": {},
   "outputs": [],
   "source": [
    "def remove_html(data):\n",
    "    pattern = re.compile(\"<.*?>\")\n",
    "    return pattern.sub(r\"\", data)"
   ]
  },
  {
   "cell_type": "code",
   "execution_count": 8,
   "id": "a54a4e48-793f-48a1-bb46-93ebbb238370",
   "metadata": {},
   "outputs": [],
   "source": [
    "df.review = df.review.apply(remove_html)"
   ]
  },
  {
   "cell_type": "code",
   "execution_count": 9,
   "id": "167d280f-2465-4236-8d7e-accf270c2c6c",
   "metadata": {},
   "outputs": [
    {
     "data": {
      "text/html": [
       "<div>\n",
       "<style scoped>\n",
       "    .dataframe tbody tr th:only-of-type {\n",
       "        vertical-align: middle;\n",
       "    }\n",
       "\n",
       "    .dataframe tbody tr th {\n",
       "        vertical-align: top;\n",
       "    }\n",
       "\n",
       "    .dataframe thead th {\n",
       "        text-align: right;\n",
       "    }\n",
       "</style>\n",
       "<table border=\"1\" class=\"dataframe\">\n",
       "  <thead>\n",
       "    <tr style=\"text-align: right;\">\n",
       "      <th></th>\n",
       "      <th>review</th>\n",
       "      <th>sentiment</th>\n",
       "    </tr>\n",
       "  </thead>\n",
       "  <tbody>\n",
       "    <tr>\n",
       "      <th>0</th>\n",
       "      <td>one of the other reviewers has mentioned that ...</td>\n",
       "      <td>positive</td>\n",
       "    </tr>\n",
       "    <tr>\n",
       "      <th>1</th>\n",
       "      <td>a wonderful little production. the filming tec...</td>\n",
       "      <td>positive</td>\n",
       "    </tr>\n",
       "    <tr>\n",
       "      <th>2</th>\n",
       "      <td>i thought this was a wonderful way to spend ti...</td>\n",
       "      <td>positive</td>\n",
       "    </tr>\n",
       "    <tr>\n",
       "      <th>3</th>\n",
       "      <td>basically there's a family where a little boy ...</td>\n",
       "      <td>negative</td>\n",
       "    </tr>\n",
       "    <tr>\n",
       "      <th>4</th>\n",
       "      <td>petter mattei's \"love in the time of money\" is...</td>\n",
       "      <td>positive</td>\n",
       "    </tr>\n",
       "  </tbody>\n",
       "</table>\n",
       "</div>"
      ],
      "text/plain": [
       "                                              review sentiment\n",
       "0  one of the other reviewers has mentioned that ...  positive\n",
       "1  a wonderful little production. the filming tec...  positive\n",
       "2  i thought this was a wonderful way to spend ti...  positive\n",
       "3  basically there's a family where a little boy ...  negative\n",
       "4  petter mattei's \"love in the time of money\" is...  positive"
      ]
     },
     "execution_count": 9,
     "metadata": {},
     "output_type": "execute_result"
    }
   ],
   "source": [
    "df.head()"
   ]
  },
  {
   "cell_type": "markdown",
   "id": "fe3f960a-5364-4f79-b3b0-6339d7198ec6",
   "metadata": {},
   "source": [
    "Next step would be to remove urls from the sentence."
   ]
  },
  {
   "cell_type": "code",
   "execution_count": 10,
   "id": "287e4e2a-178f-494b-b25a-ec6ad880d402",
   "metadata": {},
   "outputs": [],
   "source": [
    "def remove_url(data):\n",
    "    pattern = re.compile(r\"https?://\\S+|www\\.\\S+\")\n",
    "    return pattern.sub(r\"\", data)"
   ]
  },
  {
   "cell_type": "code",
   "execution_count": 11,
   "id": "42efc7ef-0873-4c49-96af-87fecb5e8cae",
   "metadata": {},
   "outputs": [],
   "source": [
    "df.review = df.review.apply(remove_url)"
   ]
  },
  {
   "cell_type": "code",
   "execution_count": 12,
   "id": "eac2b308-2504-49be-b3a0-2ebdd7574bfa",
   "metadata": {},
   "outputs": [
    {
     "data": {
      "text/html": [
       "<div>\n",
       "<style scoped>\n",
       "    .dataframe tbody tr th:only-of-type {\n",
       "        vertical-align: middle;\n",
       "    }\n",
       "\n",
       "    .dataframe tbody tr th {\n",
       "        vertical-align: top;\n",
       "    }\n",
       "\n",
       "    .dataframe thead th {\n",
       "        text-align: right;\n",
       "    }\n",
       "</style>\n",
       "<table border=\"1\" class=\"dataframe\">\n",
       "  <thead>\n",
       "    <tr style=\"text-align: right;\">\n",
       "      <th></th>\n",
       "      <th>review</th>\n",
       "      <th>sentiment</th>\n",
       "    </tr>\n",
       "  </thead>\n",
       "  <tbody>\n",
       "    <tr>\n",
       "      <th>0</th>\n",
       "      <td>one of the other reviewers has mentioned that ...</td>\n",
       "      <td>positive</td>\n",
       "    </tr>\n",
       "    <tr>\n",
       "      <th>1</th>\n",
       "      <td>a wonderful little production. the filming tec...</td>\n",
       "      <td>positive</td>\n",
       "    </tr>\n",
       "    <tr>\n",
       "      <th>2</th>\n",
       "      <td>i thought this was a wonderful way to spend ti...</td>\n",
       "      <td>positive</td>\n",
       "    </tr>\n",
       "    <tr>\n",
       "      <th>3</th>\n",
       "      <td>basically there's a family where a little boy ...</td>\n",
       "      <td>negative</td>\n",
       "    </tr>\n",
       "    <tr>\n",
       "      <th>4</th>\n",
       "      <td>petter mattei's \"love in the time of money\" is...</td>\n",
       "      <td>positive</td>\n",
       "    </tr>\n",
       "  </tbody>\n",
       "</table>\n",
       "</div>"
      ],
      "text/plain": [
       "                                              review sentiment\n",
       "0  one of the other reviewers has mentioned that ...  positive\n",
       "1  a wonderful little production. the filming tec...  positive\n",
       "2  i thought this was a wonderful way to spend ti...  positive\n",
       "3  basically there's a family where a little boy ...  negative\n",
       "4  petter mattei's \"love in the time of money\" is...  positive"
      ]
     },
     "execution_count": 12,
     "metadata": {},
     "output_type": "execute_result"
    }
   ],
   "source": [
    "df.head()"
   ]
  },
  {
   "cell_type": "markdown",
   "id": "221b9986-4070-4b08-9faf-6fff3bfee474",
   "metadata": {},
   "source": [
    "Next step is to remove punctuation."
   ]
  },
  {
   "cell_type": "code",
   "execution_count": 13,
   "id": "7f475ba3-9379-4a84-b0e5-b84abd55e5a1",
   "metadata": {},
   "outputs": [],
   "source": [
    "punctuations = string.punctuation"
   ]
  },
  {
   "cell_type": "code",
   "execution_count": 14,
   "id": "f9140085-8f89-4aa0-bdcb-3fdbdbe356be",
   "metadata": {},
   "outputs": [],
   "source": [
    "def remove_punc(data):\n",
    "    for char in punctuations:\n",
    "        data = data.replace(char, \"\")\n",
    "    return data"
   ]
  },
  {
   "cell_type": "code",
   "execution_count": 15,
   "id": "7d0a0281-b566-4f6a-a4d6-cd7f0cad1c21",
   "metadata": {},
   "outputs": [],
   "source": [
    "df_temp = df\n",
    "df_temp.review = df_temp.review.apply(remove_punc)"
   ]
  },
  {
   "cell_type": "code",
   "execution_count": 16,
   "id": "036021b8-35e6-41d2-bdef-9da57899665c",
   "metadata": {},
   "outputs": [
    {
     "data": {
      "text/html": [
       "<div>\n",
       "<style scoped>\n",
       "    .dataframe tbody tr th:only-of-type {\n",
       "        vertical-align: middle;\n",
       "    }\n",
       "\n",
       "    .dataframe tbody tr th {\n",
       "        vertical-align: top;\n",
       "    }\n",
       "\n",
       "    .dataframe thead th {\n",
       "        text-align: right;\n",
       "    }\n",
       "</style>\n",
       "<table border=\"1\" class=\"dataframe\">\n",
       "  <thead>\n",
       "    <tr style=\"text-align: right;\">\n",
       "      <th></th>\n",
       "      <th>review</th>\n",
       "      <th>sentiment</th>\n",
       "    </tr>\n",
       "  </thead>\n",
       "  <tbody>\n",
       "    <tr>\n",
       "      <th>0</th>\n",
       "      <td>one of the other reviewers has mentioned that ...</td>\n",
       "      <td>positive</td>\n",
       "    </tr>\n",
       "    <tr>\n",
       "      <th>1</th>\n",
       "      <td>a wonderful little production the filming tech...</td>\n",
       "      <td>positive</td>\n",
       "    </tr>\n",
       "    <tr>\n",
       "      <th>2</th>\n",
       "      <td>i thought this was a wonderful way to spend ti...</td>\n",
       "      <td>positive</td>\n",
       "    </tr>\n",
       "    <tr>\n",
       "      <th>3</th>\n",
       "      <td>basically theres a family where a little boy j...</td>\n",
       "      <td>negative</td>\n",
       "    </tr>\n",
       "    <tr>\n",
       "      <th>4</th>\n",
       "      <td>petter matteis love in the time of money is a ...</td>\n",
       "      <td>positive</td>\n",
       "    </tr>\n",
       "  </tbody>\n",
       "</table>\n",
       "</div>"
      ],
      "text/plain": [
       "                                              review sentiment\n",
       "0  one of the other reviewers has mentioned that ...  positive\n",
       "1  a wonderful little production the filming tech...  positive\n",
       "2  i thought this was a wonderful way to spend ti...  positive\n",
       "3  basically theres a family where a little boy j...  negative\n",
       "4  petter matteis love in the time of money is a ...  positive"
      ]
     },
     "execution_count": 16,
     "metadata": {},
     "output_type": "execute_result"
    }
   ],
   "source": [
    "df_temp.head()"
   ]
  },
  {
   "cell_type": "markdown",
   "id": "b569895e-8b93-44b6-b842-7b87b8c44b4a",
   "metadata": {},
   "source": [
    "The above method works but is slow so when we have a huge dataset it would be a problem."
   ]
  },
  {
   "cell_type": "code",
   "execution_count": 17,
   "id": "922a929f-ceac-4fdb-90c3-316e4fe045b3",
   "metadata": {},
   "outputs": [],
   "source": [
    "def remove_punctuation(data):\n",
    "    return data.translate(str.maketrans(\"\", \"\", punctuations))"
   ]
  },
  {
   "cell_type": "code",
   "execution_count": 18,
   "id": "5b50aa3d-9647-47bd-a536-dab75b31f603",
   "metadata": {},
   "outputs": [],
   "source": [
    "df.review = df.review.apply(remove_punctuation)"
   ]
  },
  {
   "cell_type": "code",
   "execution_count": 19,
   "id": "b0dcf5ee-b0a1-49ca-9d16-399ef540d478",
   "metadata": {},
   "outputs": [
    {
     "data": {
      "text/html": [
       "<div>\n",
       "<style scoped>\n",
       "    .dataframe tbody tr th:only-of-type {\n",
       "        vertical-align: middle;\n",
       "    }\n",
       "\n",
       "    .dataframe tbody tr th {\n",
       "        vertical-align: top;\n",
       "    }\n",
       "\n",
       "    .dataframe thead th {\n",
       "        text-align: right;\n",
       "    }\n",
       "</style>\n",
       "<table border=\"1\" class=\"dataframe\">\n",
       "  <thead>\n",
       "    <tr style=\"text-align: right;\">\n",
       "      <th></th>\n",
       "      <th>review</th>\n",
       "      <th>sentiment</th>\n",
       "    </tr>\n",
       "  </thead>\n",
       "  <tbody>\n",
       "    <tr>\n",
       "      <th>0</th>\n",
       "      <td>one of the other reviewers has mentioned that ...</td>\n",
       "      <td>positive</td>\n",
       "    </tr>\n",
       "    <tr>\n",
       "      <th>1</th>\n",
       "      <td>a wonderful little production the filming tech...</td>\n",
       "      <td>positive</td>\n",
       "    </tr>\n",
       "    <tr>\n",
       "      <th>2</th>\n",
       "      <td>i thought this was a wonderful way to spend ti...</td>\n",
       "      <td>positive</td>\n",
       "    </tr>\n",
       "    <tr>\n",
       "      <th>3</th>\n",
       "      <td>basically theres a family where a little boy j...</td>\n",
       "      <td>negative</td>\n",
       "    </tr>\n",
       "    <tr>\n",
       "      <th>4</th>\n",
       "      <td>petter matteis love in the time of money is a ...</td>\n",
       "      <td>positive</td>\n",
       "    </tr>\n",
       "  </tbody>\n",
       "</table>\n",
       "</div>"
      ],
      "text/plain": [
       "                                              review sentiment\n",
       "0  one of the other reviewers has mentioned that ...  positive\n",
       "1  a wonderful little production the filming tech...  positive\n",
       "2  i thought this was a wonderful way to spend ti...  positive\n",
       "3  basically theres a family where a little boy j...  negative\n",
       "4  petter matteis love in the time of money is a ...  positive"
      ]
     },
     "execution_count": 19,
     "metadata": {},
     "output_type": "execute_result"
    }
   ],
   "source": [
    "df.head()"
   ]
  },
  {
   "cell_type": "markdown",
   "id": "2993a8f5-b59c-42dc-83c8-f4d9587794f4",
   "metadata": {},
   "source": [
    "Next step would be chat word treatment. This deals with shortforms that are used instead of their actual self. We would need a dictionary where keys would be shortform and value will be their meaning. This is an important part for any application that interacts with real users as they generaly use these shortforms. But currently we will move to spelling correction."
   ]
  },
  {
   "cell_type": "code",
   "execution_count": 20,
   "id": "45b70704-874e-4a4d-a41f-afc499116451",
   "metadata": {},
   "outputs": [],
   "source": [
    "def correct_spell(data):\n",
    "    return spell(data)\n",
    "\n",
    "spell = Speller(lang=\"en\")"
   ]
  },
  {
   "cell_type": "code",
   "execution_count": 21,
   "id": "38e6f097-395a-4854-9885-715c7fdb3d4a",
   "metadata": {},
   "outputs": [],
   "source": [
    "# df.review = df.review.apply(correct_spell)"
   ]
  },
  {
   "cell_type": "markdown",
   "id": "2fb14116-a625-4edc-ab7d-fc9349a3260d",
   "metadata": {},
   "source": [
    "The above step takes too long with both textblob and autocorrect so lets skip them for now."
   ]
  },
  {
   "cell_type": "code",
   "execution_count": 22,
   "id": "07a13f67-8f26-4b26-82ab-bcf765858225",
   "metadata": {},
   "outputs": [
    {
     "data": {
      "text/html": [
       "<div>\n",
       "<style scoped>\n",
       "    .dataframe tbody tr th:only-of-type {\n",
       "        vertical-align: middle;\n",
       "    }\n",
       "\n",
       "    .dataframe tbody tr th {\n",
       "        vertical-align: top;\n",
       "    }\n",
       "\n",
       "    .dataframe thead th {\n",
       "        text-align: right;\n",
       "    }\n",
       "</style>\n",
       "<table border=\"1\" class=\"dataframe\">\n",
       "  <thead>\n",
       "    <tr style=\"text-align: right;\">\n",
       "      <th></th>\n",
       "      <th>review</th>\n",
       "      <th>sentiment</th>\n",
       "    </tr>\n",
       "  </thead>\n",
       "  <tbody>\n",
       "    <tr>\n",
       "      <th>0</th>\n",
       "      <td>one of the other reviewers has mentioned that ...</td>\n",
       "      <td>positive</td>\n",
       "    </tr>\n",
       "    <tr>\n",
       "      <th>1</th>\n",
       "      <td>a wonderful little production the filming tech...</td>\n",
       "      <td>positive</td>\n",
       "    </tr>\n",
       "    <tr>\n",
       "      <th>2</th>\n",
       "      <td>i thought this was a wonderful way to spend ti...</td>\n",
       "      <td>positive</td>\n",
       "    </tr>\n",
       "    <tr>\n",
       "      <th>3</th>\n",
       "      <td>basically theres a family where a little boy j...</td>\n",
       "      <td>negative</td>\n",
       "    </tr>\n",
       "    <tr>\n",
       "      <th>4</th>\n",
       "      <td>petter matteis love in the time of money is a ...</td>\n",
       "      <td>positive</td>\n",
       "    </tr>\n",
       "  </tbody>\n",
       "</table>\n",
       "</div>"
      ],
      "text/plain": [
       "                                              review sentiment\n",
       "0  one of the other reviewers has mentioned that ...  positive\n",
       "1  a wonderful little production the filming tech...  positive\n",
       "2  i thought this was a wonderful way to spend ti...  positive\n",
       "3  basically theres a family where a little boy j...  negative\n",
       "4  petter matteis love in the time of money is a ...  positive"
      ]
     },
     "execution_count": 22,
     "metadata": {},
     "output_type": "execute_result"
    }
   ],
   "source": [
    "df.head()"
   ]
  },
  {
   "cell_type": "markdown",
   "id": "b887e111-5990-4f8a-8a3a-0c46f2ed2d23",
   "metadata": {},
   "source": [
    "Next step would be to get rid of stop words."
   ]
  },
  {
   "cell_type": "code",
   "execution_count": 23,
   "id": "dff7d789-2eb7-46ce-bdb6-80baa5448eff",
   "metadata": {},
   "outputs": [],
   "source": [
    "en_stopwords = stopwords.words(\"english\")"
   ]
  },
  {
   "cell_type": "code",
   "execution_count": 24,
   "id": "1939e76e-ed62-4299-b94e-f534ecca74d9",
   "metadata": {},
   "outputs": [],
   "source": [
    "def remove_stopwords(data):\n",
    "    end_string = []\n",
    "    for word in data.split():\n",
    "        if word not in en_stopwords:\n",
    "            end_string.append(word)\n",
    "    return \" \".join(end_string)"
   ]
  },
  {
   "cell_type": "code",
   "execution_count": 25,
   "id": "304b344f-3641-40d0-976f-20e447dbab2c",
   "metadata": {},
   "outputs": [],
   "source": [
    "df.review = df.review.apply(remove_stopwords)"
   ]
  },
  {
   "cell_type": "code",
   "execution_count": 26,
   "id": "cdb46b11-9d3f-447a-89be-d34da42c7797",
   "metadata": {},
   "outputs": [
    {
     "data": {
      "text/html": [
       "<div>\n",
       "<style scoped>\n",
       "    .dataframe tbody tr th:only-of-type {\n",
       "        vertical-align: middle;\n",
       "    }\n",
       "\n",
       "    .dataframe tbody tr th {\n",
       "        vertical-align: top;\n",
       "    }\n",
       "\n",
       "    .dataframe thead th {\n",
       "        text-align: right;\n",
       "    }\n",
       "</style>\n",
       "<table border=\"1\" class=\"dataframe\">\n",
       "  <thead>\n",
       "    <tr style=\"text-align: right;\">\n",
       "      <th></th>\n",
       "      <th>review</th>\n",
       "      <th>sentiment</th>\n",
       "    </tr>\n",
       "  </thead>\n",
       "  <tbody>\n",
       "    <tr>\n",
       "      <th>0</th>\n",
       "      <td>one reviewers mentioned watching 1 oz episode ...</td>\n",
       "      <td>positive</td>\n",
       "    </tr>\n",
       "    <tr>\n",
       "      <th>1</th>\n",
       "      <td>wonderful little production filming technique ...</td>\n",
       "      <td>positive</td>\n",
       "    </tr>\n",
       "    <tr>\n",
       "      <th>2</th>\n",
       "      <td>thought wonderful way spend time hot summer we...</td>\n",
       "      <td>positive</td>\n",
       "    </tr>\n",
       "    <tr>\n",
       "      <th>3</th>\n",
       "      <td>basically theres family little boy jake thinks...</td>\n",
       "      <td>negative</td>\n",
       "    </tr>\n",
       "    <tr>\n",
       "      <th>4</th>\n",
       "      <td>petter matteis love time money visually stunni...</td>\n",
       "      <td>positive</td>\n",
       "    </tr>\n",
       "  </tbody>\n",
       "</table>\n",
       "</div>"
      ],
      "text/plain": [
       "                                              review sentiment\n",
       "0  one reviewers mentioned watching 1 oz episode ...  positive\n",
       "1  wonderful little production filming technique ...  positive\n",
       "2  thought wonderful way spend time hot summer we...  positive\n",
       "3  basically theres family little boy jake thinks...  negative\n",
       "4  petter matteis love time money visually stunni...  positive"
      ]
     },
     "execution_count": 26,
     "metadata": {},
     "output_type": "execute_result"
    }
   ],
   "source": [
    "df.head()"
   ]
  },
  {
   "cell_type": "markdown",
   "id": "4e496b66-226b-49bb-ad83-17d84f4102f4",
   "metadata": {},
   "source": [
    "The next step is tokenization."
   ]
  },
  {
   "cell_type": "code",
   "execution_count": 27,
   "id": "231f08a2-c1b8-41e5-800a-bbf6694236ff",
   "metadata": {},
   "outputs": [],
   "source": [
    "df_sample = df.iloc[0, 0]"
   ]
  },
  {
   "cell_type": "code",
   "execution_count": 28,
   "id": "6a5f0227-ccfb-4475-a42d-caee8bf37bc1",
   "metadata": {},
   "outputs": [
    {
     "data": {
      "text/plain": [
       "['one',\n",
       " 'reviewers',\n",
       " 'mentioned',\n",
       " 'watching',\n",
       " '1',\n",
       " 'oz',\n",
       " 'episode',\n",
       " 'youll',\n",
       " 'hooked',\n",
       " 'right',\n",
       " 'exactly',\n",
       " 'happened',\n",
       " 'methe',\n",
       " 'first',\n",
       " 'thing',\n",
       " 'struck',\n",
       " 'oz',\n",
       " 'brutality',\n",
       " 'unflinching',\n",
       " 'scenes',\n",
       " 'violence',\n",
       " 'set',\n",
       " 'right',\n",
       " 'word',\n",
       " 'go',\n",
       " 'trust',\n",
       " 'show',\n",
       " 'faint',\n",
       " 'hearted',\n",
       " 'timid',\n",
       " 'show',\n",
       " 'pulls',\n",
       " 'punches',\n",
       " 'regards',\n",
       " 'drugs',\n",
       " 'sex',\n",
       " 'violence',\n",
       " 'hardcore',\n",
       " 'classic',\n",
       " 'use',\n",
       " 'wordit',\n",
       " 'called',\n",
       " 'oz',\n",
       " 'nickname',\n",
       " 'given',\n",
       " 'oswald',\n",
       " 'maximum',\n",
       " 'security',\n",
       " 'state',\n",
       " 'penitentary',\n",
       " 'focuses',\n",
       " 'mainly',\n",
       " 'emerald',\n",
       " 'city',\n",
       " 'experimental',\n",
       " 'section',\n",
       " 'prison',\n",
       " 'cells',\n",
       " 'glass',\n",
       " 'fronts',\n",
       " 'face',\n",
       " 'inwards',\n",
       " 'privacy',\n",
       " 'high',\n",
       " 'agenda',\n",
       " 'em',\n",
       " 'city',\n",
       " 'home',\n",
       " 'manyaryans',\n",
       " 'muslims',\n",
       " 'gangstas',\n",
       " 'latinos',\n",
       " 'christians',\n",
       " 'italians',\n",
       " 'irish',\n",
       " 'moreso',\n",
       " 'scuffles',\n",
       " 'death',\n",
       " 'stares',\n",
       " 'dodgy',\n",
       " 'dealings',\n",
       " 'shady',\n",
       " 'agreements',\n",
       " 'never',\n",
       " 'far',\n",
       " 'awayi',\n",
       " 'would',\n",
       " 'say',\n",
       " 'main',\n",
       " 'appeal',\n",
       " 'show',\n",
       " 'due',\n",
       " 'fact',\n",
       " 'goes',\n",
       " 'shows',\n",
       " 'wouldnt',\n",
       " 'dare',\n",
       " 'forget',\n",
       " 'pretty',\n",
       " 'pictures',\n",
       " 'painted',\n",
       " 'mainstream',\n",
       " 'audiences',\n",
       " 'forget',\n",
       " 'charm',\n",
       " 'forget',\n",
       " 'romanceoz',\n",
       " 'doesnt',\n",
       " 'mess',\n",
       " 'around',\n",
       " 'first',\n",
       " 'episode',\n",
       " 'ever',\n",
       " 'saw',\n",
       " 'struck',\n",
       " 'nasty',\n",
       " 'surreal',\n",
       " 'couldnt',\n",
       " 'say',\n",
       " 'ready',\n",
       " 'watched',\n",
       " 'developed',\n",
       " 'taste',\n",
       " 'oz',\n",
       " 'got',\n",
       " 'accustomed',\n",
       " 'high',\n",
       " 'levels',\n",
       " 'graphic',\n",
       " 'violence',\n",
       " 'violence',\n",
       " 'injustice',\n",
       " 'crooked',\n",
       " 'guards',\n",
       " 'wholl',\n",
       " 'sold',\n",
       " 'nickel',\n",
       " 'inmates',\n",
       " 'wholl',\n",
       " 'kill',\n",
       " 'order',\n",
       " 'get',\n",
       " 'away',\n",
       " 'well',\n",
       " 'mannered',\n",
       " 'middle',\n",
       " 'class',\n",
       " 'inmates',\n",
       " 'turned',\n",
       " 'prison',\n",
       " 'bitches',\n",
       " 'due',\n",
       " 'lack',\n",
       " 'street',\n",
       " 'skills',\n",
       " 'prison',\n",
       " 'experience',\n",
       " 'watching',\n",
       " 'oz',\n",
       " 'may',\n",
       " 'become',\n",
       " 'comfortable',\n",
       " 'uncomfortable',\n",
       " 'viewingthats',\n",
       " 'get',\n",
       " 'touch',\n",
       " 'darker',\n",
       " 'side']"
      ]
     },
     "execution_count": 28,
     "metadata": {},
     "output_type": "execute_result"
    }
   ],
   "source": [
    "word_tokenize(df_sample)"
   ]
  },
  {
   "cell_type": "code",
   "execution_count": 29,
   "id": "71cdf6d2-ba19-4b21-8278-4d2437394bd7",
   "metadata": {},
   "outputs": [
    {
     "data": {
      "text/plain": [
       "['one reviewers mentioned watching 1 oz episode youll hooked right exactly happened methe first thing struck oz brutality unflinching scenes violence set right word go trust show faint hearted timid show pulls punches regards drugs sex violence hardcore classic use wordit called oz nickname given oswald maximum security state penitentary focuses mainly emerald city experimental section prison cells glass fronts face inwards privacy high agenda em city home manyaryans muslims gangstas latinos christians italians irish moreso scuffles death stares dodgy dealings shady agreements never far awayi would say main appeal show due fact goes shows wouldnt dare forget pretty pictures painted mainstream audiences forget charm forget romanceoz doesnt mess around first episode ever saw struck nasty surreal couldnt say ready watched developed taste oz got accustomed high levels graphic violence violence injustice crooked guards wholl sold nickel inmates wholl kill order get away well mannered middle class inmates turned prison bitches due lack street skills prison experience watching oz may become comfortable uncomfortable viewingthats get touch darker side']"
      ]
     },
     "execution_count": 29,
     "metadata": {},
     "output_type": "execute_result"
    }
   ],
   "source": [
    "sent_tokenize(df_sample)"
   ]
  },
  {
   "cell_type": "markdown",
   "id": "c92d6556-0be5-4ab7-ad2c-e8bdca83a130",
   "metadata": {},
   "source": [
    "The above are just examples from sample of data as all the data will take a long time. Spacy is another library which can help here. Next step is Stemming. It basically means to bring every word back to their root form."
   ]
  },
  {
   "cell_type": "code",
   "execution_count": 30,
   "id": "5dc73f78-b2f8-45cf-b83d-5bec6230e83a",
   "metadata": {},
   "outputs": [],
   "source": [
    "ps = PorterStemmer()"
   ]
  },
  {
   "cell_type": "code",
   "execution_count": 31,
   "id": "d9d67324-60b4-43c6-9753-b95e8cb0994d",
   "metadata": {},
   "outputs": [],
   "source": [
    "def stem_words(data):\n",
    "    return \" \".join([ps.stem(word) for word in data.split()])"
   ]
  },
  {
   "cell_type": "code",
   "execution_count": 32,
   "id": "8e7f4ee8-e993-4d21-a61e-3bec5d030de3",
   "metadata": {},
   "outputs": [
    {
     "data": {
      "text/plain": [
       "'one review mention watch 1 oz episod youll hook right exactli happen meth first thing struck oz brutal unflinch scene violenc set right word go trust show faint heart timid show pull punch regard drug sex violenc hardcor classic use wordit call oz nicknam given oswald maximum secur state penitentari focus mainli emerald citi experiment section prison cell glass front face inward privaci high agenda em citi home manyaryan muslim gangsta latino christian italian irish moreso scuffl death stare dodgi deal shadi agreement never far awayi would say main appeal show due fact goe show wouldnt dare forget pretti pictur paint mainstream audienc forget charm forget romanceoz doesnt mess around first episod ever saw struck nasti surreal couldnt say readi watch develop tast oz got accustom high level graphic violenc violenc injustic crook guard wholl sold nickel inmat wholl kill order get away well manner middl class inmat turn prison bitch due lack street skill prison experi watch oz may becom comfort uncomfort viewingthat get touch darker side'"
      ]
     },
     "execution_count": 32,
     "metadata": {},
     "output_type": "execute_result"
    }
   ],
   "source": [
    "stem_words(df_sample)"
   ]
  },
  {
   "cell_type": "markdown",
   "id": "fcd0a16d-aca3-4c38-8887-1671c03caaf4",
   "metadata": {},
   "source": [
    "As we can see every word has been reverted back to their root form but the root word may not be of the same language so we can also use Lemmatization."
   ]
  },
  {
   "cell_type": "code",
   "execution_count": 33,
   "id": "292359b2-ba4c-4ccf-8f11-2a4691a56366",
   "metadata": {},
   "outputs": [],
   "source": [
    "wordnet = WordNetLemmatizer()"
   ]
  },
  {
   "cell_type": "code",
   "execution_count": 34,
   "id": "d1bffe5a-060e-48a8-977e-ab5c59fd8565",
   "metadata": {},
   "outputs": [],
   "source": [
    "word_token = word_tokenize(df_sample)"
   ]
  },
  {
   "cell_type": "code",
   "execution_count": 35,
   "id": "c51b6a29-1858-42a7-b40d-3830ac5dd218",
   "metadata": {},
   "outputs": [
    {
     "name": "stdout",
     "output_type": "stream",
     "text": [
      "one, one\n",
      "reviewers, reviewers\n",
      "mentioned, mention\n",
      "watching, watch\n",
      "1, 1\n",
      "oz, oz\n",
      "episode, episode\n",
      "youll, youll\n",
      "hooked, hook\n",
      "right, right\n",
      "exactly, exactly\n",
      "happened, happen\n",
      "methe, methe\n",
      "first, first\n",
      "thing, thing\n",
      "struck, strike\n",
      "oz, oz\n",
      "brutality, brutality\n",
      "unflinching, unflinching\n",
      "scenes, scenes\n",
      "violence, violence\n",
      "set, set\n",
      "right, right\n",
      "word, word\n",
      "go, go\n",
      "trust, trust\n",
      "show, show\n",
      "faint, faint\n",
      "hearted, hearted\n",
      "timid, timid\n",
      "show, show\n",
      "pulls, pull\n",
      "punches, punch\n",
      "regards, regard\n",
      "drugs, drug\n",
      "sex, sex\n",
      "violence, violence\n",
      "hardcore, hardcore\n",
      "classic, classic\n",
      "use, use\n",
      "wordit, wordit\n",
      "called, call\n",
      "oz, oz\n",
      "nickname, nickname\n",
      "given, give\n",
      "oswald, oswald\n",
      "maximum, maximum\n",
      "security, security\n",
      "state, state\n",
      "penitentary, penitentary\n",
      "focuses, focus\n",
      "mainly, mainly\n",
      "emerald, emerald\n",
      "city, city\n",
      "experimental, experimental\n",
      "section, section\n",
      "prison, prison\n",
      "cells, cells\n",
      "glass, glass\n",
      "fronts, front\n",
      "face, face\n",
      "inwards, inwards\n",
      "privacy, privacy\n",
      "high, high\n",
      "agenda, agenda\n",
      "em, em\n",
      "city, city\n",
      "home, home\n",
      "manyaryans, manyaryans\n",
      "muslims, muslims\n",
      "gangstas, gangstas\n",
      "latinos, latinos\n",
      "christians, christians\n",
      "italians, italians\n",
      "irish, irish\n",
      "moreso, moreso\n",
      "scuffles, scuffle\n",
      "death, death\n",
      "stares, star\n",
      "dodgy, dodgy\n",
      "dealings, dealings\n",
      "shady, shady\n",
      "agreements, agreements\n",
      "never, never\n",
      "far, far\n",
      "awayi, awayi\n",
      "would, would\n",
      "say, say\n",
      "main, main\n",
      "appeal, appeal\n",
      "show, show\n",
      "due, due\n",
      "fact, fact\n",
      "goes, go\n",
      "shows, show\n",
      "wouldnt, wouldnt\n",
      "dare, dare\n",
      "forget, forget\n",
      "pretty, pretty\n",
      "pictures, picture\n",
      "painted, paint\n",
      "mainstream, mainstream\n",
      "audiences, audiences\n",
      "forget, forget\n",
      "charm, charm\n",
      "forget, forget\n",
      "romanceoz, romanceoz\n",
      "doesnt, doesnt\n",
      "mess, mess\n",
      "around, around\n",
      "first, first\n",
      "episode, episode\n",
      "ever, ever\n",
      "saw, saw\n",
      "struck, strike\n",
      "nasty, nasty\n",
      "surreal, surreal\n",
      "couldnt, couldnt\n",
      "say, say\n",
      "ready, ready\n",
      "watched, watch\n",
      "developed, develop\n",
      "taste, taste\n",
      "oz, oz\n",
      "got, get\n",
      "accustomed, accustom\n",
      "high, high\n",
      "levels, level\n",
      "graphic, graphic\n",
      "violence, violence\n",
      "violence, violence\n",
      "injustice, injustice\n",
      "crooked, crook\n",
      "guards, guard\n",
      "wholl, wholl\n",
      "sold, sell\n",
      "nickel, nickel\n",
      "inmates, inmates\n",
      "wholl, wholl\n",
      "kill, kill\n",
      "order, order\n",
      "get, get\n",
      "away, away\n",
      "well, well\n",
      "mannered, mannered\n",
      "middle, middle\n",
      "class, class\n",
      "inmates, inmates\n",
      "turned, turn\n",
      "prison, prison\n",
      "bitches, bitch\n",
      "due, due\n",
      "lack, lack\n",
      "street, street\n",
      "skills, skills\n",
      "prison, prison\n",
      "experience, experience\n",
      "watching, watch\n",
      "oz, oz\n",
      "may, may\n",
      "become, become\n",
      "comfortable, comfortable\n",
      "uncomfortable, uncomfortable\n",
      "viewingthats, viewingthats\n",
      "get, get\n",
      "touch, touch\n",
      "darker, darker\n",
      "side, side\n"
     ]
    }
   ],
   "source": [
    "for word in word_token:\n",
    "    print(f\"{word}, {wordnet.lemmatize(word, pos=\"v\")}\")"
   ]
  },
  {
   "cell_type": "markdown",
   "id": "ef9ecbce-c57b-4444-9130-e619db66d958",
   "metadata": {},
   "source": [
    "Now our task is done."
   ]
  },
  {
   "cell_type": "code",
   "execution_count": null,
   "id": "7edb87d4-cdc0-4d02-a79d-2056a5e91d03",
   "metadata": {},
   "outputs": [],
   "source": []
  }
 ],
 "metadata": {
  "kernelspec": {
   "display_name": "Python 3 (ipykernel)",
   "language": "python",
   "name": "python3"
  },
  "language_info": {
   "codemirror_mode": {
    "name": "ipython",
    "version": 3
   },
   "file_extension": ".py",
   "mimetype": "text/x-python",
   "name": "python",
   "nbconvert_exporter": "python",
   "pygments_lexer": "ipython3",
   "version": "3.12.7"
  }
 },
 "nbformat": 4,
 "nbformat_minor": 5
}
