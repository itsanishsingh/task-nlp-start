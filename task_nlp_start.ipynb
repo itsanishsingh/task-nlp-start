{
 "cells": [
  {
   "cell_type": "markdown",
   "id": "d49447eb-3744-49b0-b0dc-696d05c55a1a",
   "metadata": {},
   "source": [
    "# Natural Language Processing\n",
    "NLP is a sub-field of AI and is created from fields like linguistics, computer science and AI. Here the task is for the machines to understand natural language and help them in solving a problem or better assist them through it in speech format. For example, helping people in ATM booths to better guide them through the interface. There are some tasks of NLP which are as follows:-\n",
    "\n",
    "* Text Classification\n",
    "* Sentiment Analysis\n",
    "* Information Retrieval\n",
    "* Parts of Speech Tagging\n",
    "* Language Detection and Machine Translation\n",
    "* Conversational Agents\n",
    "* Knowledge Graph and QA System\n",
    "* Text Summarization\n",
    "* Topic Modelling\n",
    "* Text Generation\n",
    "* Text Parsing\n",
    "* Speech to Text\n",
    "\n",
    "There are some approaches to NLP which are as follows:-\n",
    "\n",
    "* Heuristic Method\n",
    "* Machine Learning Method\n",
    "* Deep Learning Method\n",
    "\n",
    "Challenges in NLP:-\n",
    "\n",
    "* Ambiguity\n",
    "* Contextual Words\n",
    "* Colloquialism and Slangs\n",
    "* Synonyms\n",
    "* Irony, Sarcasm and Tonal Difference\n",
    "* Spelling Errors\n",
    "* Creativity\n",
    "* Diversity"
   ]
  },
  {
   "cell_type": "markdown",
   "id": "7f2dbd7a-7b57-4a2d-949f-e5b0c7b4bde7",
   "metadata": {},
   "source": [
    "# NLP Pipeline\n",
    "It is set of steps followed to build an end to end NLP software.These steps are:-\n",
    "\n",
    "* Data Acquisition\n",
    "* Text Preparation\n",
    "  * Text Cleanup\n",
    "  * Basic Preprocessing\n",
    "  * Advance Preprocessing\n",
    "* Feature Engineering\n",
    "* Modelling\n",
    "  * Building\n",
    "  * Evaluation\n",
    "* Deployment\n",
    "  * Deployment\n",
    "  * Monitoring\n",
    "  * Model Update\n",
    "\n",
    "Notes:-\n",
    "\n",
    "* This is not universal\n",
    "* DL pipelines are slightly different\n",
    "* Pipeline is non-linear"
   ]
  },
  {
   "cell_type": "code",
   "execution_count": null,
   "id": "b3eebfd7-d4ef-4e74-a53f-db58d4616c26",
   "metadata": {},
   "outputs": [],
   "source": []
  }
 ],
 "metadata": {
  "kernelspec": {
   "display_name": "Python 3 (ipykernel)",
   "language": "python",
   "name": "python3"
  },
  "language_info": {
   "codemirror_mode": {
    "name": "ipython",
    "version": 3
   },
   "file_extension": ".py",
   "mimetype": "text/x-python",
   "name": "python",
   "nbconvert_exporter": "python",
   "pygments_lexer": "ipython3",
   "version": "3.12.7"
  }
 },
 "nbformat": 4,
 "nbformat_minor": 5
}
